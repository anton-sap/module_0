{
 "cells": [
  {
   "cell_type": "code",
   "execution_count": 175,
   "metadata": {
    "_cell_guid": "b1076dfc-b9ad-4769-8c92-a6c4dae69d19",
    "_uuid": "8f2839f25d086af736a60e9eeb907d3b93b6e0e5",
    "colab": {},
    "colab_type": "code",
    "id": "U2D2gTdJVp90"
   },
   "outputs": [],
   "source": [
    "import numpy as np\n",
    "import pandas as pd\n",
    "import seaborn as sns\n",
    "import matplotlib.pyplot as plt\n",
    "from collections import Counter"
   ]
  },
  {
   "cell_type": "code",
   "execution_count": 176,
   "metadata": {
    "_cell_guid": "79c7e3d0-c299-4dcb-8224-4455121ee9b0",
    "_uuid": "d629ff2d2480ee46fbb7e2d37f6b5fab8052498a",
    "colab": {},
    "colab_type": "code",
    "id": "oyGfxL3eVp9-"
   },
   "outputs": [
    {
     "data": {
      "text/html": [
       "<div>\n",
       "<style scoped>\n",
       "    .dataframe tbody tr th:only-of-type {\n",
       "        vertical-align: middle;\n",
       "    }\n",
       "\n",
       "    .dataframe tbody tr th {\n",
       "        vertical-align: top;\n",
       "    }\n",
       "\n",
       "    .dataframe thead th {\n",
       "        text-align: right;\n",
       "    }\n",
       "</style>\n",
       "<table border=\"1\" class=\"dataframe\">\n",
       "  <thead>\n",
       "    <tr style=\"text-align: right;\">\n",
       "      <th></th>\n",
       "      <th>imdb_id</th>\n",
       "      <th>budget</th>\n",
       "      <th>revenue</th>\n",
       "      <th>original_title</th>\n",
       "      <th>cast</th>\n",
       "      <th>director</th>\n",
       "      <th>tagline</th>\n",
       "      <th>overview</th>\n",
       "      <th>runtime</th>\n",
       "      <th>genres</th>\n",
       "      <th>production_companies</th>\n",
       "      <th>release_date</th>\n",
       "      <th>vote_average</th>\n",
       "      <th>release_year</th>\n",
       "    </tr>\n",
       "  </thead>\n",
       "  <tbody>\n",
       "    <tr>\n",
       "      <th>747</th>\n",
       "      <td>tt0480687</td>\n",
       "      <td>36000000</td>\n",
       "      <td>83160734</td>\n",
       "      <td>Hall Pass</td>\n",
       "      <td>Owen Wilson|Jason Sudeikis|Jenna Fischer|Chris...</td>\n",
       "      <td>Bobby Farrelly|Peter Farrelly</td>\n",
       "      <td>One Week, No Rules</td>\n",
       "      <td>When best buds Rick and Fred begin to show sig...</td>\n",
       "      <td>105</td>\n",
       "      <td>Comedy</td>\n",
       "      <td>New Line Cinema|Conundrum Entertainment</td>\n",
       "      <td>2/25/2011</td>\n",
       "      <td>5.4</td>\n",
       "      <td>2011</td>\n",
       "    </tr>\n",
       "    <tr>\n",
       "      <th>210</th>\n",
       "      <td>tt0900387</td>\n",
       "      <td>15000000</td>\n",
       "      <td>9104716</td>\n",
       "      <td>Suite FranÃ§aise</td>\n",
       "      <td>Michelle Williams|Kristin Scott Thomas|Matthia...</td>\n",
       "      <td>Saul Dibb</td>\n",
       "      <td>Based on the Best Selling Novel</td>\n",
       "      <td>France, 1940. In the first days of occupation,...</td>\n",
       "      <td>107</td>\n",
       "      <td>Drama|Romance|War</td>\n",
       "      <td>Qwerty Films|Alliance Films|Canal+|TF1 Droits ...</td>\n",
       "      <td>11/5/2014</td>\n",
       "      <td>6.9</td>\n",
       "      <td>2014</td>\n",
       "    </tr>\n",
       "    <tr>\n",
       "      <th>1256</th>\n",
       "      <td>tt1517260</td>\n",
       "      <td>44000000</td>\n",
       "      <td>63327201</td>\n",
       "      <td>The Host</td>\n",
       "      <td>Saoirse Ronan|Diane Kruger|Jake Abel|William H...</td>\n",
       "      <td>Andrew Niccol</td>\n",
       "      <td>You will be one of us</td>\n",
       "      <td>A parasitic alien soul is injected into the bo...</td>\n",
       "      <td>125</td>\n",
       "      <td>Action|Adventure|Romance|Science Fiction|Thriller</td>\n",
       "      <td>Nick Wechsler Productions|Open Road Films|Silv...</td>\n",
       "      <td>3/22/2013</td>\n",
       "      <td>6.0</td>\n",
       "      <td>2013</td>\n",
       "    </tr>\n",
       "    <tr>\n",
       "      <th>6</th>\n",
       "      <td>tt1340138</td>\n",
       "      <td>155000000</td>\n",
       "      <td>440603537</td>\n",
       "      <td>Terminator Genisys</td>\n",
       "      <td>Arnold Schwarzenegger|Jason Clarke|Emilia Clar...</td>\n",
       "      <td>Alan Taylor</td>\n",
       "      <td>Reset the future</td>\n",
       "      <td>The year is 2029. John Connor, leader of the r...</td>\n",
       "      <td>125</td>\n",
       "      <td>Science Fiction|Action|Thriller|Adventure</td>\n",
       "      <td>Paramount Pictures|Skydance Productions</td>\n",
       "      <td>6/23/2015</td>\n",
       "      <td>5.8</td>\n",
       "      <td>2015</td>\n",
       "    </tr>\n",
       "    <tr>\n",
       "      <th>439</th>\n",
       "      <td>tt1666186</td>\n",
       "      <td>20000000</td>\n",
       "      <td>80547866</td>\n",
       "      <td>Vampires Suck</td>\n",
       "      <td>Chris Riggi|Matt Lanter|Jenn Proske|Ken Jeong|...</td>\n",
       "      <td>Jason Friedberg|Aaron Seltzer</td>\n",
       "      <td>Some sagas just won't die.</td>\n",
       "      <td>Becca, an anxious, non-vampire teen is torn be...</td>\n",
       "      <td>82</td>\n",
       "      <td>Horror|Comedy</td>\n",
       "      <td>20th Century Fox|Regency Enterprises</td>\n",
       "      <td>8/18/2010</td>\n",
       "      <td>4.3</td>\n",
       "      <td>2010</td>\n",
       "    </tr>\n",
       "  </tbody>\n",
       "</table>\n",
       "</div>"
      ],
      "text/plain": [
       "        imdb_id     budget    revenue      original_title  \\\n",
       "747   tt0480687   36000000   83160734           Hall Pass   \n",
       "210   tt0900387   15000000    9104716    Suite FranÃ§aise   \n",
       "1256  tt1517260   44000000   63327201            The Host   \n",
       "6     tt1340138  155000000  440603537  Terminator Genisys   \n",
       "439   tt1666186   20000000   80547866       Vampires Suck   \n",
       "\n",
       "                                                   cast  \\\n",
       "747   Owen Wilson|Jason Sudeikis|Jenna Fischer|Chris...   \n",
       "210   Michelle Williams|Kristin Scott Thomas|Matthia...   \n",
       "1256  Saoirse Ronan|Diane Kruger|Jake Abel|William H...   \n",
       "6     Arnold Schwarzenegger|Jason Clarke|Emilia Clar...   \n",
       "439   Chris Riggi|Matt Lanter|Jenn Proske|Ken Jeong|...   \n",
       "\n",
       "                           director                          tagline  \\\n",
       "747   Bobby Farrelly|Peter Farrelly               One Week, No Rules   \n",
       "210                       Saul Dibb  Based on the Best Selling Novel   \n",
       "1256                  Andrew Niccol            You will be one of us   \n",
       "6                       Alan Taylor                 Reset the future   \n",
       "439   Jason Friedberg|Aaron Seltzer       Some sagas just won't die.   \n",
       "\n",
       "                                               overview  runtime  \\\n",
       "747   When best buds Rick and Fred begin to show sig...      105   \n",
       "210   France, 1940. In the first days of occupation,...      107   \n",
       "1256  A parasitic alien soul is injected into the bo...      125   \n",
       "6     The year is 2029. John Connor, leader of the r...      125   \n",
       "439   Becca, an anxious, non-vampire teen is torn be...       82   \n",
       "\n",
       "                                                 genres  \\\n",
       "747                                              Comedy   \n",
       "210                                   Drama|Romance|War   \n",
       "1256  Action|Adventure|Romance|Science Fiction|Thriller   \n",
       "6             Science Fiction|Action|Thriller|Adventure   \n",
       "439                                       Horror|Comedy   \n",
       "\n",
       "                                   production_companies release_date  \\\n",
       "747             New Line Cinema|Conundrum Entertainment    2/25/2011   \n",
       "210   Qwerty Films|Alliance Films|Canal+|TF1 Droits ...    11/5/2014   \n",
       "1256  Nick Wechsler Productions|Open Road Films|Silv...    3/22/2013   \n",
       "6               Paramount Pictures|Skydance Productions    6/23/2015   \n",
       "439                20th Century Fox|Regency Enterprises    8/18/2010   \n",
       "\n",
       "      vote_average  release_year  \n",
       "747            5.4          2011  \n",
       "210            6.9          2014  \n",
       "1256           6.0          2013  \n",
       "6              5.8          2015  \n",
       "439            4.3          2010  "
      ]
     },
     "execution_count": 176,
     "metadata": {},
     "output_type": "execute_result"
    }
   ],
   "source": [
    "data = pd.read_csv('movie_bd_v5.csv')\n",
    "data.sample(5)"
   ]
  },
  {
   "cell_type": "code",
   "execution_count": 177,
   "metadata": {
    "colab": {},
    "colab_type": "code",
    "id": "CoYUnagMVp-C"
   },
   "outputs": [
    {
     "data": {
      "text/html": [
       "<div>\n",
       "<style scoped>\n",
       "    .dataframe tbody tr th:only-of-type {\n",
       "        vertical-align: middle;\n",
       "    }\n",
       "\n",
       "    .dataframe tbody tr th {\n",
       "        vertical-align: top;\n",
       "    }\n",
       "\n",
       "    .dataframe thead th {\n",
       "        text-align: right;\n",
       "    }\n",
       "</style>\n",
       "<table border=\"1\" class=\"dataframe\">\n",
       "  <thead>\n",
       "    <tr style=\"text-align: right;\">\n",
       "      <th></th>\n",
       "      <th>budget</th>\n",
       "      <th>revenue</th>\n",
       "      <th>runtime</th>\n",
       "      <th>vote_average</th>\n",
       "      <th>release_year</th>\n",
       "    </tr>\n",
       "  </thead>\n",
       "  <tbody>\n",
       "    <tr>\n",
       "      <th>count</th>\n",
       "      <td>1.889000e+03</td>\n",
       "      <td>1.889000e+03</td>\n",
       "      <td>1889.000000</td>\n",
       "      <td>1889.000000</td>\n",
       "      <td>1889.000000</td>\n",
       "    </tr>\n",
       "    <tr>\n",
       "      <th>mean</th>\n",
       "      <td>5.431083e+07</td>\n",
       "      <td>1.553653e+08</td>\n",
       "      <td>109.658549</td>\n",
       "      <td>6.140762</td>\n",
       "      <td>2007.860773</td>\n",
       "    </tr>\n",
       "    <tr>\n",
       "      <th>std</th>\n",
       "      <td>4.858721e+07</td>\n",
       "      <td>2.146698e+08</td>\n",
       "      <td>18.017041</td>\n",
       "      <td>0.764763</td>\n",
       "      <td>4.468841</td>\n",
       "    </tr>\n",
       "    <tr>\n",
       "      <th>min</th>\n",
       "      <td>5.000000e+06</td>\n",
       "      <td>2.033165e+06</td>\n",
       "      <td>63.000000</td>\n",
       "      <td>3.300000</td>\n",
       "      <td>2000.000000</td>\n",
       "    </tr>\n",
       "    <tr>\n",
       "      <th>25%</th>\n",
       "      <td>2.000000e+07</td>\n",
       "      <td>3.456058e+07</td>\n",
       "      <td>97.000000</td>\n",
       "      <td>5.600000</td>\n",
       "      <td>2004.000000</td>\n",
       "    </tr>\n",
       "    <tr>\n",
       "      <th>50%</th>\n",
       "      <td>3.800000e+07</td>\n",
       "      <td>8.361541e+07</td>\n",
       "      <td>107.000000</td>\n",
       "      <td>6.100000</td>\n",
       "      <td>2008.000000</td>\n",
       "    </tr>\n",
       "    <tr>\n",
       "      <th>75%</th>\n",
       "      <td>7.200000e+07</td>\n",
       "      <td>1.782626e+08</td>\n",
       "      <td>120.000000</td>\n",
       "      <td>6.600000</td>\n",
       "      <td>2012.000000</td>\n",
       "    </tr>\n",
       "    <tr>\n",
       "      <th>max</th>\n",
       "      <td>3.800000e+08</td>\n",
       "      <td>2.781506e+09</td>\n",
       "      <td>214.000000</td>\n",
       "      <td>8.100000</td>\n",
       "      <td>2015.000000</td>\n",
       "    </tr>\n",
       "  </tbody>\n",
       "</table>\n",
       "</div>"
      ],
      "text/plain": [
       "             budget       revenue      runtime  vote_average  release_year\n",
       "count  1.889000e+03  1.889000e+03  1889.000000   1889.000000   1889.000000\n",
       "mean   5.431083e+07  1.553653e+08   109.658549      6.140762   2007.860773\n",
       "std    4.858721e+07  2.146698e+08    18.017041      0.764763      4.468841\n",
       "min    5.000000e+06  2.033165e+06    63.000000      3.300000   2000.000000\n",
       "25%    2.000000e+07  3.456058e+07    97.000000      5.600000   2004.000000\n",
       "50%    3.800000e+07  8.361541e+07   107.000000      6.100000   2008.000000\n",
       "75%    7.200000e+07  1.782626e+08   120.000000      6.600000   2012.000000\n",
       "max    3.800000e+08  2.781506e+09   214.000000      8.100000   2015.000000"
      ]
     },
     "execution_count": 177,
     "metadata": {},
     "output_type": "execute_result"
    }
   ],
   "source": [
    "data.describe()"
   ]
  },
  {
   "cell_type": "markdown",
   "metadata": {
    "colab_type": "text",
    "id": "DTIt7ezGVp-G"
   },
   "source": [
    "# Предобработка"
   ]
  },
  {
   "cell_type": "code",
   "execution_count": 178,
   "metadata": {
    "colab": {},
    "colab_type": "code",
    "id": "jNb40DwKVp-H"
   },
   "outputs": [],
   "source": [
    "answers = {} # создадим словарь для ответов\n",
    "\n",
    "data['profit'] = data.revenue - data.budget # добавляем столбец с прибылью для последующих заданий\n",
    "\n",
    "# добавляем в датафрейм столбцы с месяцами, днями и годами\n",
    "data['month'] = pd.to_datetime(data.release_date).dt.month\n",
    "data['day'] = pd.to_datetime(data.release_date).dt.day\n",
    "data['year'] = pd.to_datetime(data.release_date).dt.year\n",
    "\n",
    "# данная функция нугаглена и преднезначена для подсчета значений в столбце\n",
    "# на вход подается столбец со списками значений\n",
    "def func11_1(series):\n",
    " return pd.Series([x for _list in series for x in _list])\n",
    "\n",
    "# данная функция была подробно разобрана из предыдущей, чтобы понять, как оно работает, и\n",
    "# ипреднезначена для подсчета значений в столбце, но выглядит немного иначе\n",
    "# на вход подается столбец со списками значений\n",
    "def func11_2(series):\n",
    "    _list1 = []\n",
    "    for _list in series:\n",
    "        #print(_list)\n",
    "        for x in _list:\n",
    "            _list1.append(x)\n",
    "    return pd.Series(_list1)\n",
    "\n",
    "# даннаф функция приинимает на вход текст и выводит колчество слов (раздленных пробелами)\n",
    "def word_counter(item):\n",
    "    _list = item.split()\n",
    "    word_count = len(_list)\n",
    "    return word_count\n"
   ]
  },
  {
   "cell_type": "markdown",
   "metadata": {
    "colab_type": "text",
    "id": "YxZaH-nPVp-L"
   },
   "source": [
    "# 1. У какого фильма из списка самый большой бюджет?"
   ]
  },
  {
   "cell_type": "markdown",
   "metadata": {
    "colab_type": "text",
    "id": "Nd-G5gX6Vp-M"
   },
   "source": [
    "Использовать варианты ответов в коде решения запрещено.    \n",
    "Вы думаете и в жизни у вас будут варианты ответов?)"
   ]
  },
  {
   "cell_type": "code",
   "execution_count": 179,
   "metadata": {
    "colab": {},
    "colab_type": "code",
    "id": "uVnXAY5RVp-O"
   },
   "outputs": [],
   "source": [
    "# в словарь вставляем номер вопроса и ваш ответ на него\n",
    "# Пример: \n",
    "# answers['1'] = '2. Spider-Man 3 (tt0413300)'\n",
    "# запишите свой вариант ответа\n",
    "answers['1'] = '723. Pirates of the Caribbean: On Stranger Tides  (tt1298650)'\n",
    "# если ответили верно, можете добавить комментарий со значком \"+\""
   ]
  },
  {
   "cell_type": "code",
   "execution_count": 180,
   "metadata": {
    "colab": {},
    "colab_type": "code",
    "id": "dZwb3m28Vp-S"
   },
   "outputs": [
    {
     "name": "stdout",
     "output_type": "stream",
     "text": [
      "                                  original_title    imdb_id\n",
      "723  Pirates of the Caribbean: On Stranger Tides  tt1298650\n"
     ]
    }
   ],
   "source": [
    "# Получаем максимальный бюджет в датасете\n",
    "max_budget = data[data.budget == data.budget.max()] \n",
    "\n",
    "# Выводим название картины и ее imdb_id\n",
    "print(max_budget[['original_title', 'imdb_id']])"
   ]
  },
  {
   "cell_type": "markdown",
   "metadata": {
    "colab_type": "text",
    "id": "K7L3nbRXVp-X"
   },
   "source": [
    "ВАРИАНТ 2"
   ]
  },
  {
   "cell_type": "code",
   "execution_count": 181,
   "metadata": {
    "colab": {},
    "colab_type": "code",
    "id": "OGaoQI7rVp-X"
   },
   "outputs": [],
   "source": [
    "# можно добавлять разные варианты решения"
   ]
  },
  {
   "cell_type": "markdown",
   "metadata": {
    "colab_type": "text",
    "id": "FNRbbI3vVp-c"
   },
   "source": [
    "# 2. Какой из фильмов самый длительный (в минутах)?"
   ]
  },
  {
   "cell_type": "code",
   "execution_count": 182,
   "metadata": {
    "colab": {},
    "colab_type": "code",
    "id": "vHAoEXNTVp-d"
   },
   "outputs": [],
   "source": [
    "# думаю логику работы с этим словарем вы уже поняли, \n",
    "# по этому не буду больше его дублировать\n",
    "answers['2'] = '1157. Gods and Generals  (tt0279111)'"
   ]
  },
  {
   "cell_type": "code",
   "execution_count": 183,
   "metadata": {
    "colab": {},
    "colab_type": "code",
    "id": "ot-VX2XrVp-g"
   },
   "outputs": [
    {
     "name": "stdout",
     "output_type": "stream",
     "text": [
      "         original_title    imdb_id  runtime\n",
      "1157  Gods and Generals  tt0279111      214\n"
     ]
    }
   ],
   "source": [
    "# получаем самую длительную длительность в датасете\n",
    "max_runtime = data[data.runtime == data.runtime.max()]\n",
    "\n",
    "# выводим фильм с получившейся длительностью\n",
    "print(max_runtime[['original_title', 'imdb_id', 'runtime']])"
   ]
  },
  {
   "cell_type": "markdown",
   "metadata": {
    "colab_type": "text",
    "id": "bapLlpW8Vp-k"
   },
   "source": [
    "# 3. Какой из фильмов самый короткий (в минутах)?\n",
    "\n",
    "\n",
    "\n"
   ]
  },
  {
   "cell_type": "code",
   "execution_count": 184,
   "metadata": {
    "colab": {},
    "colab_type": "code",
    "id": "YBxaSHuAVp-l"
   },
   "outputs": [
    {
     "name": "stdout",
     "output_type": "stream",
     "text": [
      "      original_title    imdb_id  runtime\n",
      "768  Winnie the Pooh  tt1449283       63\n"
     ]
    }
   ],
   "source": [
    "# получаем минимальную длительность в датасете\n",
    "min_runtime = data[data.runtime == data.runtime.min()]\n",
    "\n",
    "# выводим фильм с полуившейся длительностью\n",
    "print(min_runtime[['original_title', 'imdb_id', 'runtime']])\n",
    "\n",
    "# записываем ответ в словарь\n",
    "answers['3'] = '768. Winnie the Pooh  (tt1449283)'"
   ]
  },
  {
   "cell_type": "markdown",
   "metadata": {
    "colab_type": "text",
    "id": "TfQbxbfNVp-p"
   },
   "source": [
    "# 4. Какова средняя длительность фильмов?\n"
   ]
  },
  {
   "cell_type": "code",
   "execution_count": 185,
   "metadata": {
    "colab": {},
    "colab_type": "code",
    "id": "5K6dKZYVVp-q"
   },
   "outputs": [
    {
     "name": "stdout",
     "output_type": "stream",
     "text": [
      "110\n"
     ]
    }
   ],
   "source": [
    "# получаем среднюю длительность фильмов функцией mean()\n",
    "mean_runtime = data.runtime.mean()\n",
    "\n",
    "# округляем до целых и выводим полуичшиеся значение\n",
    "print(round(mean_runtime))\n",
    "\n",
    "# записываем ответ в словарь\n",
    "answers['4'] = '110'"
   ]
  },
  {
   "cell_type": "markdown",
   "metadata": {
    "colab_type": "text",
    "id": "r5TvbnT_Vp-u"
   },
   "source": [
    "# 5. Каково медианное значение длительности фильмов? "
   ]
  },
  {
   "cell_type": "code",
   "execution_count": 186,
   "metadata": {
    "colab": {},
    "colab_type": "code",
    "id": "iBROplKnVp-v"
   },
   "outputs": [
    {
     "name": "stdout",
     "output_type": "stream",
     "text": [
      "107\n"
     ]
    }
   ],
   "source": [
    "# получаем медианную длительность фильмов функцией median()\n",
    "median_runtime = data.runtime.median()\n",
    "\n",
    "# округляем до целых и выводим полуичшиеся значение\n",
    "print(round(median_runtime))\n",
    "\n",
    "# записываем ответ в словарь\n",
    "answers['5'] = '107'"
   ]
  },
  {
   "cell_type": "markdown",
   "metadata": {
    "colab_type": "text",
    "id": "39P-deDSVp-y"
   },
   "source": [
    "# 6. Какой самый прибыльный фильм?\n",
    "#### Внимание! Здесь и далее под «прибылью» или «убытками» понимается разность между сборами и бюджетом фильма. (прибыль = сборы - бюджет) в нашем датасете это будет (profit = revenue - budget) "
   ]
  },
  {
   "cell_type": "code",
   "execution_count": 187,
   "metadata": {
    "colab": {},
    "colab_type": "code",
    "id": "UYZh4T9WVp-y"
   },
   "outputs": [
    {
     "name": "stdout",
     "output_type": "stream",
     "text": [
      "    original_title    imdb_id      profit\n",
      "239         Avatar  tt0499549  2544505847\n"
     ]
    }
   ],
   "source": [
    "# вводим переменную и записываем в нее максимальное значение profit из датасета\n",
    "max_profit = data[data.profit == data.profit.max()]\n",
    "\n",
    "# выводим данные о фильме с найденным профитом\n",
    "print(max_profit[['original_title', 'imdb_id', 'profit']])\n",
    "\n",
    "# записываем ответ в словарь\n",
    "answers['6'] = '239. Avatar (tt0499549)'"
   ]
  },
  {
   "cell_type": "markdown",
   "metadata": {
    "colab_type": "text",
    "id": "M99JmIX4Vp-2"
   },
   "source": [
    "# 7. Какой фильм самый убыточный? "
   ]
  },
  {
   "cell_type": "code",
   "execution_count": 188,
   "metadata": {
    "colab": {},
    "colab_type": "code",
    "id": "w-D2m4XPVp-3"
   },
   "outputs": [
    {
     "name": "stdout",
     "output_type": "stream",
     "text": [
      "       original_title    imdb_id     profit\n",
      "1245  The Lone Ranger  tt1210819 -165710090\n"
     ]
    }
   ],
   "source": [
    "# вводим переменную и записываем в нее минимальное значение profit из датасета\n",
    "min_profit = data[data.profit == data.profit.min()]\n",
    "\n",
    "# выводим название самого провального фильма\n",
    "print(min_profit[['original_title', 'imdb_id', 'profit']])\n",
    "\n",
    "# записываем ответ в словарь\n",
    "answers['7'] = '1245. The Lone Ranger (tt1210819)'"
   ]
  },
  {
   "cell_type": "markdown",
   "metadata": {
    "colab_type": "text",
    "id": "wEOM5ERVVp-6"
   },
   "source": [
    "# 8. У скольких фильмов из датасета объем сборов оказался выше бюджета?"
   ]
  },
  {
   "cell_type": "code",
   "execution_count": 189,
   "metadata": {
    "colab": {},
    "colab_type": "code",
    "id": "y00_7HD6Vp-7"
   },
   "outputs": [
    {
     "name": "stdout",
     "output_type": "stream",
     "text": [
      "1478\n"
     ]
    }
   ],
   "source": [
    "# создаем новый датафрейм по условию \"сборы > бюджет\"\n",
    "data8 = data[data.revenue > data.budget]\n",
    "\n",
    "# считаем фильмы по названиям и выводим количество\n",
    "print(data8.original_title.count())\n",
    "\n",
    "# записываем ответ в словарь\n",
    "answers['8'] = '1478'"
   ]
  },
  {
   "cell_type": "markdown",
   "metadata": {
    "colab_type": "text",
    "id": "xhpspA9KVp_A"
   },
   "source": [
    "# 9. Какой фильм оказался самым кассовым в 2008 году?"
   ]
  },
  {
   "cell_type": "code",
   "execution_count": 190,
   "metadata": {
    "colab": {},
    "colab_type": "code",
    "id": "MoUyQr9RVp_B"
   },
   "outputs": [
    {
     "name": "stdout",
     "output_type": "stream",
     "text": [
      "      original_title    imdb_id     profit\n",
      "599  The Dark Knight  tt0468569  816921825\n"
     ]
    }
   ],
   "source": [
    "# создаем новый датафрейм, в который выбираем из исходного фильмы за 2008 год\n",
    "data9 = data[data.release_year == 2008]\n",
    "\n",
    "# вводим переменную и записываем в нее данные по фильму с максимальной прибылью\n",
    "max_profit_2008 = data9[data9.profit == data9.profit.max()]\n",
    "\n",
    "# выводим информацию по полченному фильму\n",
    "print(max_profit_2008[['original_title', 'imdb_id', 'profit']])\n",
    "\n",
    "# записываем ответ в словарь\n",
    "answers['9'] = '599. The Dark Knight (tt0468569)'"
   ]
  },
  {
   "cell_type": "markdown",
   "metadata": {
    "colab_type": "text",
    "id": "Zi4hDKidVp_F"
   },
   "source": [
    "# 10. Самый убыточный фильм за период с 2012 по 2014 г. (включительно)?\n"
   ]
  },
  {
   "cell_type": "code",
   "execution_count": 191,
   "metadata": {
    "colab": {},
    "colab_type": "code",
    "id": "XqyRmufJVp_F"
   },
   "outputs": [
    {
     "name": "stdout",
     "output_type": "stream",
     "text": [
      "       original_title    imdb_id     profit  release_year\n",
      "1245  The Lone Ranger  tt1210819 -165710090          2013\n"
     ]
    }
   ],
   "source": [
    "# создаем новый датафрейм, в который выбираем из исходного фильмы за 2012-2014 годы\n",
    "data10 = data[(data.release_year >= 2012) & (data.release_year <= 2014)] \n",
    "\n",
    "# вводим переменную и записываем в нее данные по фильму с минимальной прибылью\n",
    "min_profit_2012_2014 = data10[data10.profit == data10.profit.min()]\n",
    "\n",
    "# выводим информацию по полченному фильму\n",
    "print(min_profit_2012_2014[['original_title', 'imdb_id', 'profit', 'release_year']])\n",
    "\n",
    "# записываем ответ в словарь\n",
    "answers['10'] = '1245. The Lone Ranger (tt1210819)'"
   ]
  },
  {
   "cell_type": "markdown",
   "metadata": {
    "colab_type": "text",
    "id": "EA7Sa9dkVp_I"
   },
   "source": [
    "# 11. Какого жанра фильмов больше всего?"
   ]
  },
  {
   "cell_type": "code",
   "execution_count": 192,
   "metadata": {
    "colab": {},
    "colab_type": "code",
    "id": "zsJAwJ8QVp_J"
   },
   "outputs": [
    {
     "data": {
      "text/plain": [
       "Drama    782\n",
       "dtype: int64"
      ]
     },
     "metadata": {},
     "output_type": "display_data"
    },
    {
     "data": {
      "text/plain": [
       "Drama    782\n",
       "dtype: int64"
      ]
     },
     "metadata": {},
     "output_type": "display_data"
    }
   ],
   "source": [
    "# копируем исходный датафрейм в новый\n",
    "data11 = data.copy()\n",
    "\n",
    "# разбиваем названия жанров на списки функцией split()\n",
    "data11.genres = data.genres.str.split('|')\n",
    "\n",
    "# применяем написанные ранее функции к датафрейму для подсчет значений\n",
    "display(func11_1(data11_df['genres']).value_counts().head(1))\n",
    "\n",
    "display(func11_2(data11_df['genres']).value_counts().head(1))\n",
    "\n",
    "# записываем ответ в словарь\n",
    "answers['11'] = '782'"
   ]
  },
  {
   "cell_type": "markdown",
   "metadata": {
    "colab_type": "text",
    "id": "Ax6g2C8SVp_M"
   },
   "source": [
    "ВАРИАНТ 2"
   ]
  },
  {
   "cell_type": "code",
   "execution_count": 193,
   "metadata": {
    "colab": {},
    "colab_type": "code",
    "id": "otO3SbrSVp_N"
   },
   "outputs": [
    {
     "data": {
      "text/plain": [
       "Drama    782\n",
       "Name: genres, dtype: int64"
      ]
     },
     "metadata": {},
     "output_type": "display_data"
    }
   ],
   "source": [
    "# копируем исходный датафрейм в новый для обработки\n",
    "data11 = data.copy()\n",
    "\n",
    "# разбиваем названия жанров на списки функцией split()\n",
    "data11.genres = data.genres.str.split('|')\n",
    "\n",
    "# взрываем столбец с жанрами\n",
    "data11 = data11.explode('genres')\n",
    "\n",
    "# считаем количество жанров и выводим максимальное значение\n",
    "display(data11.genres.value_counts().sort_values(ascending=False).head(1))\n",
    "\n",
    "# записываем ответ в словарь\n",
    "answers['11'] = '782'"
   ]
  },
  {
   "cell_type": "markdown",
   "metadata": {
    "colab_type": "text",
    "id": "T9_bPWpkVp_Q"
   },
   "source": [
    "# 12. Фильмы какого жанра чаще всего становятся прибыльными? "
   ]
  },
  {
   "cell_type": "code",
   "execution_count": 194,
   "metadata": {
    "colab": {},
    "colab_type": "code",
    "id": "Tmt8MaK1Vp_R"
   },
   "outputs": [
    {
     "data": {
      "text/plain": [
       "Drama    560\n",
       "Name: genres, dtype: int64"
      ]
     },
     "metadata": {},
     "output_type": "display_data"
    }
   ],
   "source": [
    "# копируем исходный датафрейм в новый для обработки\n",
    "data12 = data.copy()\n",
    "\n",
    "# разбиваем названия жанров на списки функцией split()\n",
    "data12.genres = data12.genres.str.split('|')\n",
    "\n",
    "# перезаписываем датафрейм значениями, в которых профит больше нуля\n",
    "data12 = data12[data12.profit > 0]\n",
    "\n",
    "# взрываем столбец с жанрами\n",
    "data12 = data12.explode('genres')\n",
    "\n",
    "# считаем количество жанров и выводим результат\n",
    "display(data12.genres.value_counts().head(1))\n",
    "\n",
    "# записываем ответ в словарь\n",
    "answers['12'] = 'Drama'"
   ]
  },
  {
   "cell_type": "markdown",
   "metadata": {
    "colab_type": "text",
    "id": "0F23bgsDVp_U"
   },
   "source": [
    "# 13. У какого режиссера самые большие суммарные кассовые сборы?"
   ]
  },
  {
   "cell_type": "code",
   "execution_count": 195,
   "metadata": {
    "colab": {},
    "colab_type": "code",
    "id": "K6Z3J8ygVp_X"
   },
   "outputs": [
    {
     "data": {
      "text/plain": [
       "director\n",
       "Peter Jackson    5202593685\n",
       "Name: profit, dtype: int64"
      ]
     },
     "metadata": {},
     "output_type": "display_data"
    }
   ],
   "source": [
    "# копируем исходный датафрейм в новый для обработки\n",
    "data13 = data.copy()\n",
    "\n",
    "# разбиваем имена режиссеров на списки функцией split()\n",
    "data13.director = data13.director.str.split('|')\n",
    "\n",
    "# взрываем столбец с режиссерами\n",
    "data13 = data13.explode('director')\n",
    "\n",
    "# групприуем данные по режиссерам, суммируем прибыль, сортируем по убыванию и выводим топ1\n",
    "display(data13.groupby('director').profit.sum().sort_values(ascending=False).head(1))\n",
    "\n",
    "# записываем ответ в словарь\n",
    "answers['13'] = 'Peter Jackson'"
   ]
  },
  {
   "cell_type": "markdown",
   "metadata": {
    "colab_type": "text",
    "id": "PsYC9FgRVp_a"
   },
   "source": [
    "# 14. Какой режисер снял больше всего фильмов в стиле Action?"
   ]
  },
  {
   "cell_type": "code",
   "execution_count": 196,
   "metadata": {
    "colab": {},
    "colab_type": "code",
    "id": "wd2M-wHeVp_b"
   },
   "outputs": [
    {
     "data": {
      "text/plain": [
       "Robert Rodriguez    9\n",
       "Name: director, dtype: int64"
      ]
     },
     "metadata": {},
     "output_type": "display_data"
    }
   ],
   "source": [
    "# копируем исходный датафрейм в новый для обработки\n",
    "data14 = data.copy()\n",
    "\n",
    "# разбиваем названия жанров на списки функцией split()\n",
    "data14.genres = data14.genres.str.split('|')\n",
    "\n",
    "# врываем столбец с жанрами\n",
    "data14 = data14.explode('genres')\n",
    "\n",
    "# перезаписываем датафрейм по условия жанр=Action\n",
    "data14 = data14[data14['genres'] == 'Action']\n",
    "\n",
    "# разбиваем имена режиссеров на списке в новом датафрейме\n",
    "data14.director = data14.director.str.split('|')\n",
    "\n",
    "# взрываем столбец с именами режиссеров\n",
    "data14 = data14.explode('director')\n",
    "\n",
    "# считаем колчество фильмов в жанре Action с участием режиссеров\n",
    "display(data14.director.value_counts().sort_values(ascending=False).head(1))\n",
    "\n",
    "# записываем ответ в словарь\n",
    "answers['14'] = 'Robert Rodriguez'"
   ]
  },
  {
   "cell_type": "markdown",
   "metadata": {
    "colab_type": "text",
    "id": "PQ0KciD7Vp_f"
   },
   "source": [
    "# 15. Фильмы с каким актером принесли самые высокие кассовые сборы в 2012 году? "
   ]
  },
  {
   "cell_type": "code",
   "execution_count": 197,
   "metadata": {
    "colab": {},
    "colab_type": "code",
    "id": "aga62oeKVp_g"
   },
   "outputs": [
    {
     "data": {
      "text/plain": [
       "cast\n",
       "Chris Hemsworth    1542450773\n",
       "Name: profit, dtype: int64"
      ]
     },
     "metadata": {},
     "output_type": "display_data"
    }
   ],
   "source": [
    "# копируем исходный датафрейм в новый для обработки\n",
    "data15 = data.copy()\n",
    "\n",
    "# перезаписываем датафрейм фильмами за 2012 год\n",
    "data15 = data15[data15['release_year'] == 2012]\n",
    "\n",
    "# разбиваем стобец с актерами на списки\n",
    "data15.cast = data15.cast.str.split('|')\n",
    "\n",
    "# врываем столбец с актерами\n",
    "data15 = data15.explode('cast')\n",
    "\n",
    "# грцппируем данные по актеру, считаем суммарную прибыль фильма, сортируем по убыванию и выводим топ1\n",
    "display(data15.groupby('cast').profit.sum().sort_values(ascending=False).head(1))\n",
    "\n",
    "# записываем ответ в словарь\n",
    "answers['15'] = 'Chris Hemsworth'"
   ]
  },
  {
   "cell_type": "markdown",
   "metadata": {
    "colab_type": "text",
    "id": "mWHyyL7QVp_j"
   },
   "source": [
    "# 16. Какой актер снялся в большем количестве высокобюджетных фильмов?"
   ]
  },
  {
   "cell_type": "code",
   "execution_count": 198,
   "metadata": {
    "colab": {},
    "colab_type": "code",
    "id": "qQtmHKTFVp_k"
   },
   "outputs": [
    {
     "data": {
      "text/plain": [
       "Matt Damon    18\n",
       "dtype: int64"
      ]
     },
     "metadata": {},
     "output_type": "display_data"
    }
   ],
   "source": [
    "# копируем исходный датафрейм в новый для обработки\n",
    "data16 = data.copy()\n",
    "\n",
    "# перезаписываем датафрейм по условию бюджет выше среднего\n",
    "data16 = data16[data16.budget > data16.budget.mean()]\n",
    "\n",
    "# разбиваем столбец с актерами на списки\n",
    "data16.cast = data16.cast.str.split('|')\n",
    "\n",
    "# применяем функцию из преобработки, считаем количество фильмов с актерами и выводим максимальный\n",
    "display(func11_1(data16['cast']).value_counts().head(1))\n",
    "\n",
    "# записываем ответ в словарь\n",
    "answers['16'] = 'Matt Damon'"
   ]
  },
  {
   "cell_type": "markdown",
   "metadata": {
    "colab_type": "text",
    "id": "NIh6AaW5Vp_n"
   },
   "source": [
    "# 17. В фильмах какого жанра больше всего снимался Nicolas Cage? "
   ]
  },
  {
   "cell_type": "code",
   "execution_count": 199,
   "metadata": {
    "colab": {},
    "colab_type": "code",
    "id": "H74SJDIBVp_n"
   },
   "outputs": [
    {
     "data": {
      "text/plain": [
       "Action    17\n",
       "dtype: int64"
      ]
     },
     "metadata": {},
     "output_type": "display_data"
    }
   ],
   "source": [
    "# копируем исходный датафрейм в новый для обработки\n",
    "data17 = data.copy()\n",
    "\n",
    "# разбиваем столбец с актерами на списки\n",
    "data17.cast = data17.cast.str.split('|')\n",
    "\n",
    "# взрываем столбец с именами актеров\n",
    "data17 = data17.explode('cast')\n",
    "\n",
    "# перезаписываем датафрейм и оставляем только Николаса Кейджа\n",
    "data17 = data17[data17.cast == 'Nicolas Cage']\n",
    "\n",
    "# разбиваем столбец с жанрами на списки\n",
    "data17.genres = data17.genres.str.split('|')\n",
    "\n",
    "# применяем функцию из преобработки, считаем количество фильмов с Николасом Кейджом по жанрам и выводим максимальный\n",
    "display(func11_1(data17['genres']).value_counts().head(1))\n",
    "\n",
    "# записываем ответ в словарь\n",
    "answers['17'] = 'Action'"
   ]
  },
  {
   "cell_type": "markdown",
   "metadata": {
    "colab_type": "text",
    "id": "RqOmPRfWVp_q"
   },
   "source": [
    "# 18. Самый убыточный фильм от Paramount Pictures"
   ]
  },
  {
   "cell_type": "code",
   "execution_count": 200,
   "metadata": {
    "colab": {},
    "colab_type": "code",
    "id": "9E_B0Y96Vp_r"
   },
   "outputs": [
    {
     "data": {
      "text/html": [
       "<div>\n",
       "<style scoped>\n",
       "    .dataframe tbody tr th:only-of-type {\n",
       "        vertical-align: middle;\n",
       "    }\n",
       "\n",
       "    .dataframe tbody tr th {\n",
       "        vertical-align: top;\n",
       "    }\n",
       "\n",
       "    .dataframe thead th {\n",
       "        text-align: right;\n",
       "    }\n",
       "</style>\n",
       "<table border=\"1\" class=\"dataframe\">\n",
       "  <thead>\n",
       "    <tr style=\"text-align: right;\">\n",
       "      <th></th>\n",
       "      <th>imdb_id</th>\n",
       "      <th>budget</th>\n",
       "      <th>revenue</th>\n",
       "      <th>original_title</th>\n",
       "      <th>cast</th>\n",
       "      <th>director</th>\n",
       "      <th>tagline</th>\n",
       "      <th>overview</th>\n",
       "      <th>runtime</th>\n",
       "      <th>genres</th>\n",
       "      <th>production_companies</th>\n",
       "      <th>release_date</th>\n",
       "      <th>vote_average</th>\n",
       "      <th>release_year</th>\n",
       "      <th>profit</th>\n",
       "      <th>month</th>\n",
       "      <th>day</th>\n",
       "      <th>year</th>\n",
       "    </tr>\n",
       "  </thead>\n",
       "  <tbody>\n",
       "    <tr>\n",
       "      <th>925</th>\n",
       "      <td>tt0267626</td>\n",
       "      <td>100000000</td>\n",
       "      <td>35168966</td>\n",
       "      <td>K-19: The Widowmaker</td>\n",
       "      <td>Harrison Ford|Liam Neeson|Peter Sarsgaard|Joss...</td>\n",
       "      <td>Kathryn Bigelow</td>\n",
       "      <td>Fate has found its hero.</td>\n",
       "      <td>When Russia's first nuclear submarine malfunct...</td>\n",
       "      <td>138</td>\n",
       "      <td>Thriller|Drama|History</td>\n",
       "      <td>Paramount Pictures</td>\n",
       "      <td>7/19/2002</td>\n",
       "      <td>6.0</td>\n",
       "      <td>2002</td>\n",
       "      <td>-64831034</td>\n",
       "      <td>7</td>\n",
       "      <td>19</td>\n",
       "      <td>2002</td>\n",
       "    </tr>\n",
       "  </tbody>\n",
       "</table>\n",
       "</div>"
      ],
      "text/plain": [
       "       imdb_id     budget   revenue        original_title  \\\n",
       "925  tt0267626  100000000  35168966  K-19: The Widowmaker   \n",
       "\n",
       "                                                  cast         director  \\\n",
       "925  Harrison Ford|Liam Neeson|Peter Sarsgaard|Joss...  Kathryn Bigelow   \n",
       "\n",
       "                      tagline  \\\n",
       "925  Fate has found its hero.   \n",
       "\n",
       "                                              overview  runtime  \\\n",
       "925  When Russia's first nuclear submarine malfunct...      138   \n",
       "\n",
       "                     genres production_companies release_date  vote_average  \\\n",
       "925  Thriller|Drama|History   Paramount Pictures    7/19/2002           6.0   \n",
       "\n",
       "     release_year    profit  month  day  year  \n",
       "925          2002 -64831034      7   19  2002  "
      ]
     },
     "metadata": {},
     "output_type": "display_data"
    }
   ],
   "source": [
    "# копируем исходный датафрейм в новый для обработки\n",
    "data18 = data.copy()\n",
    "\n",
    "# разбиваем названия компаний на списки\n",
    "data18.production_companies = data18.production_companies.str.split('|')\n",
    "\n",
    "# врываем столбец с названиями компаний\n",
    "data18 = data18.explode('production_companies')\n",
    "\n",
    "# оставляем в датафрейме данные только по компании Paramount Pictures\n",
    "data18 = data18[data18['production_companies'] == 'Paramount Pictures']\n",
    "\n",
    "# выводим самый убыточный фильм\n",
    "display(data18[data18.profit == data18.profit.min()])\n",
    "\n",
    "# записываем ответ в словарь\n",
    "answers['18'] = '925. K-19: The Widowmaker (tt0267626)'"
   ]
  },
  {
   "cell_type": "markdown",
   "metadata": {
    "colab_type": "text",
    "id": "vS8Ur6ddVp_u"
   },
   "source": [
    "# 19. Какой год стал самым успешным по суммарным кассовым сборам?"
   ]
  },
  {
   "cell_type": "code",
   "execution_count": 201,
   "metadata": {
    "colab": {},
    "colab_type": "code",
    "id": "Dnbt4GdIVp_v"
   },
   "outputs": [
    {
     "data": {
      "text/plain": [
       "release_year\n",
       "2015    18668572378\n",
       "Name: profit, dtype: int64"
      ]
     },
     "metadata": {},
     "output_type": "display_data"
    }
   ],
   "source": [
    "# копируем исходный датафрейм в новый для обработки\n",
    "data19 = data.copy()\n",
    "\n",
    "# группируем данные по году, применяем аггрегирующую функцию, сортируем и выводим результат\n",
    "display(data19.groupby('release_year').profit.sum().sort_values(ascending=False).head(1))\n",
    "\n",
    "# записываем ответ в словарь\n",
    "answers['19'] = '2015'"
   ]
  },
  {
   "cell_type": "markdown",
   "metadata": {
    "colab_type": "text",
    "id": "JAzJh4QAVp_z"
   },
   "source": [
    "# 20. Какой самый прибыльный год для студии Warner Bros?"
   ]
  },
  {
   "cell_type": "code",
   "execution_count": 202,
   "metadata": {
    "colab": {},
    "colab_type": "code",
    "id": "wgVu02DEVp_0"
   },
   "outputs": [],
   "source": [
    "# копируем исходный датафрейм в новый для обработки\n",
    "data20 = data.copy()\n",
    "\n",
    "# разбиваем названия компаний на списки\n",
    "data20.production_companies = data20.production_companies.str.split('|')\n",
    "\n",
    "# врываем столбец с названиями\n",
    "data20 = data20.explode('production_companies')\n",
    "\n",
    "# оставляем данные, где название компании содержит Warner Bros\n",
    "data20 = data20[data20.production_companies.str.contains('Warner Bros')]\n",
    "\n",
    "# группируем по году, считаем прибыль и выводим рузельтат\n",
    "data20.groupby('release_year').profit.sum().sort_values(ascending=False).head(1)\n",
    "\n",
    "# записываем ответ в словарь\n",
    "answers['20'] = '2014'"
   ]
  },
  {
   "cell_type": "markdown",
   "metadata": {
    "colab_type": "text",
    "id": "8Im1S2HRVp_4"
   },
   "source": [
    "# 21. В каком месяце за все годы суммарно вышло больше всего фильмов?"
   ]
  },
  {
   "cell_type": "code",
   "execution_count": 203,
   "metadata": {
    "colab": {},
    "colab_type": "code",
    "id": "lev6TH7gVp_4"
   },
   "outputs": [
    {
     "data": {
      "text/plain": [
       "9     227\n",
       "12    190\n",
       "10    186\n",
       "8     161\n",
       "3     156\n",
       "4     149\n",
       "6     147\n",
       "11    146\n",
       "7     142\n",
       "5     140\n",
       "2     135\n",
       "1     110\n",
       "Name: month, dtype: int64"
      ]
     },
     "metadata": {},
     "output_type": "display_data"
    }
   ],
   "source": [
    "# копируем исходный датафрейм в новый для обработки\n",
    "data21 = data.copy()\n",
    "\n",
    "# считаем месяца, сортируем и выводим результат\n",
    "display(data21.month.value_counts().sort_values(ascending=False))\n",
    "\n",
    "# записываем ответ в словарь\n",
    "answers['21'] = 'Сентябрь'"
   ]
  },
  {
   "cell_type": "markdown",
   "metadata": {
    "colab_type": "text",
    "id": "uAJsZ_NeVp_7"
   },
   "source": [
    "# 22. Сколько суммарно вышло фильмов летом? (за июнь, июль, август)"
   ]
  },
  {
   "cell_type": "code",
   "execution_count": 204,
   "metadata": {
    "colab": {},
    "colab_type": "code",
    "id": "Aa-hEREoVp_8"
   },
   "outputs": [
    {
     "data": {
      "text/plain": [
       "450"
      ]
     },
     "metadata": {},
     "output_type": "display_data"
    }
   ],
   "source": [
    "# копируем исходный датафрейм в новый для обработки\n",
    "data22 = data.copy()\n",
    "\n",
    "# считаем количество фильмов в 6-8 месяцы и суммируем их\n",
    "display(data22.month[(data22.month >=6) & (data22.month <=8)].value_counts().sum())\n",
    "\n",
    "# записываем ответ в словарь\n",
    "answers['22'] = '450'"
   ]
  },
  {
   "cell_type": "markdown",
   "metadata": {
    "colab_type": "text",
    "id": "G94ppOY1VqAA"
   },
   "source": [
    "# 23. Для какого режиссера зима – самое продуктивное время года? "
   ]
  },
  {
   "cell_type": "code",
   "execution_count": 205,
   "metadata": {
    "colab": {},
    "colab_type": "code",
    "id": "RhNTsamuVqAB"
   },
   "outputs": [
    {
     "data": {
      "text/plain": [
       "Peter Jackson    7\n",
       "Name: director, dtype: int64"
      ]
     },
     "metadata": {},
     "output_type": "display_data"
    }
   ],
   "source": [
    "# копируем исходный датафрейм в новый для обработки\n",
    "data23 = data.copy()\n",
    "\n",
    "# перезаписывем датафрейм только зимними фильмами\n",
    "data23 = data23[(data23.month == 12) | (data23.month == 1) | (data23.month == 2)]\n",
    "\n",
    "# разбиваем столбец с режиссерами на списки\n",
    "data23.director = data23.director.str.split('|')\n",
    "\n",
    "# взрываем столбец с режиссерами\n",
    "data23 = data23.explode('director')\n",
    "\n",
    "# считаем количество фильмов каждого режиссера и выводим результат\n",
    "display(data23.director.value_counts().sort_values(ascending=False).head(1))\n",
    "\n",
    "# записываем ответ в словарь\n",
    "answers['23'] = 'Peter Jackson'"
   ]
  },
  {
   "cell_type": "markdown",
   "metadata": {
    "colab_type": "text",
    "id": "RBo0JVjVVqAF"
   },
   "source": [
    "# 24. Какая студия дает самые длинные названия своим фильмам по количеству символов?"
   ]
  },
  {
   "cell_type": "code",
   "execution_count": 206,
   "metadata": {
    "colab": {},
    "colab_type": "code",
    "id": "QRGS8L0iVqAG"
   },
   "outputs": [
    {
     "data": {
      "text/plain": [
       "production_companies\n",
       "Four By Two Productions    83.0\n",
       "Name: title_len, dtype: float64"
      ]
     },
     "metadata": {},
     "output_type": "display_data"
    }
   ],
   "source": [
    "# копируем исходный датафрейм в новый для обработки\n",
    "data24 = data.copy()\n",
    "\n",
    "# добавляем в датафрейм новый столбец из подсчитанной длинный названий\n",
    "data24['title_len'] = data24.original_title.apply(len)\n",
    "\n",
    "# разбиваем названия компаний на списки\n",
    "data24.production_companies = data24.production_companies.str.split('|')\n",
    "\n",
    "# врываем столбец с названиями компаний\n",
    "data24 = data24.explode('production_companies')\n",
    "\n",
    "# шруппируем по названию компании, считаем среднее значение и выводим топ\n",
    "display(data24.groupby('production_companies').title_len.mean().sort_values(ascending=False).head(1))\n",
    "\n",
    "# записываем ответ в словарь\n",
    "answers['24'] = 'Four By Two Productions'"
   ]
  },
  {
   "cell_type": "markdown",
   "metadata": {
    "colab_type": "text",
    "id": "9G0hbvR7VqAK"
   },
   "source": [
    "# 25. Описание фильмов какой студии в среднем самые длинные по количеству слов?"
   ]
  },
  {
   "cell_type": "code",
   "execution_count": 207,
   "metadata": {
    "colab": {},
    "colab_type": "code",
    "id": "Ge2GsLNxVqAK"
   },
   "outputs": [
    {
     "data": {
      "text/plain": [
       "production_companies\n",
       "Midnight Picture Show    175.0\n",
       "Name: overview_len, dtype: float64"
      ]
     },
     "metadata": {},
     "output_type": "display_data"
    }
   ],
   "source": [
    "# копируем исходный датафрейм в новый для обработки\n",
    "data25 = data.copy()\n",
    "\n",
    "# добавляем столбец с количеством слов в описании\n",
    "data25['overview_len'] = data25.overview.apply(word_counter)\n",
    "\n",
    "# разделяем названия компаний на списки\n",
    "data25.production_companies = data25.production_companies.str.split('|')\n",
    "\n",
    "# врызваем столбец с названиями компаний\n",
    "data25 = data25.explode('production_companies')\n",
    "\n",
    "# группируем по названию, считаем среднее значение по количеству слов и выводим топ1\n",
    "display(data25.groupby('production_companies').overview_len.mean().sort_values(ascending=False).head(1))\n",
    "\n",
    "# записываем ответ в словарь\n",
    "answers['25'] = 'Midnight Picture Show'"
   ]
  },
  {
   "cell_type": "markdown",
   "metadata": {
    "colab_type": "text",
    "id": "FJ1AFt90VqAP"
   },
   "source": [
    "# 26. Какие фильмы входят в 1 процент лучших по рейтингу? \n",
    "по vote_average"
   ]
  },
  {
   "cell_type": "code",
   "execution_count": 208,
   "metadata": {
    "colab": {},
    "colab_type": "code",
    "id": "8qmJVq4CVqAQ"
   },
   "outputs": [
    {
     "data": {
      "text/plain": [
       "9                                          Inside Out\n",
       "34                                               Room\n",
       "118                                      Interstellar\n",
       "119                           Guardians of the Galaxy\n",
       "125                                The Imitation Game\n",
       "128                                         Gone Girl\n",
       "138                          The Grand Budapest Hotel\n",
       "370                                         Inception\n",
       "599                                   The Dark Knight\n",
       "872                                       The Pianist\n",
       "1081    The Lord of the Rings: The Return of the King\n",
       "1183                          The Wolf of Wall Street\n",
       "1191                                 12 Years a Slave\n",
       "1800                                          Memento\n",
       "Name: original_title, dtype: object"
      ]
     },
     "metadata": {},
     "output_type": "display_data"
    }
   ],
   "source": [
    "# копируем исходный датафрейм в новый для обработки\n",
    "data26 = data.copy()\n",
    "\n",
    "# выбираем фильмы топ 1% и выводим результат\n",
    "display(data26.original_title[data26.vote_average > data26.vote_average.quantile(0.99)])\n",
    "\n",
    "# записываем ответ в словарь\n",
    "answers['26'] = 'Inside Out, The Dark Knight, 12 Years a Slave'\n"
   ]
  },
  {
   "cell_type": "markdown",
   "metadata": {
    "colab_type": "text",
    "id": "MdXsUXbCVqAV"
   },
   "source": [
    "# 27. Какие актеры чаще всего снимаются в одном фильме вместе?\n"
   ]
  },
  {
   "cell_type": "code",
   "execution_count": 209,
   "metadata": {
    "colab_type": "text",
    "id": "4ymnxEVoVqAW"
   },
   "outputs": [],
   "source": [
    "# этот вопрос я не успел проработать, так как отключилось электричество :(. Сдаю без него, чтобы успеть к сроку.\n",
    "\n",
    "# записываем ответ в словарь\n",
    "answers['27'] = ''"
   ]
  },
  {
   "cell_type": "markdown",
   "metadata": {
    "colab_type": "text",
    "id": "U0nONFnGVqAX"
   },
   "source": [
    "# Submission"
   ]
  },
  {
   "cell_type": "code",
   "execution_count": 210,
   "metadata": {
    "colab": {},
    "colab_type": "code",
    "id": "IfcaRO9-VqAX",
    "outputId": "0f132912-32bb-4196-c98c-abfbc4ad5a5f"
   },
   "outputs": [
    {
     "data": {
      "text/plain": [
       "{'1': '723. Pirates of the Caribbean: On Stranger Tides  (tt1298650)',\n",
       " '2': '1157. Gods and Generals  (tt0279111)',\n",
       " '3': '768. Winnie the Pooh  (tt1449283)',\n",
       " '4': '110',\n",
       " '5': '107',\n",
       " '6': '239. Avatar (tt0499549)',\n",
       " '7': '1245. The Lone Ranger (tt1210819)',\n",
       " '8': '1478',\n",
       " '9': '599. The Dark Knight (tt0468569)',\n",
       " '10': '1245. The Lone Ranger (tt1210819)',\n",
       " '11': '782',\n",
       " '12': 'Drama',\n",
       " '13': 'Peter Jackson',\n",
       " '14': 'Robert Rodriguez',\n",
       " '15': 'Chris Hemsworth',\n",
       " '16': 'Matt Damon',\n",
       " '17': 'Action',\n",
       " '18': '925. K-19: The Widowmaker (tt0267626)',\n",
       " '19': '2015',\n",
       " '20': '2014',\n",
       " '21': 'Сентябрь',\n",
       " '22': '450',\n",
       " '23': 'Peter Jackson',\n",
       " '24': 'Four By Two Productions',\n",
       " '25': 'Midnight Picture Show',\n",
       " '26': 'Inside Out, The Dark Knight, 12 Years a Slave',\n",
       " '27': ''}"
      ]
     },
     "execution_count": 210,
     "metadata": {},
     "output_type": "execute_result"
    }
   ],
   "source": [
    "# в конце можно посмотреть свои ответы к каждому вопросу\n",
    "answers"
   ]
  },
  {
   "cell_type": "code",
   "execution_count": 211,
   "metadata": {
    "colab": {},
    "colab_type": "code",
    "id": "SiRmHPl8VqAd"
   },
   "outputs": [
    {
     "data": {
      "text/plain": [
       "27"
      ]
     },
     "execution_count": 211,
     "metadata": {},
     "output_type": "execute_result"
    }
   ],
   "source": [
    "# и убедиться что ни чего не пропустил)\n",
    "len(answers)"
   ]
  },
  {
   "cell_type": "code",
   "execution_count": null,
   "metadata": {
    "colab": {},
    "colab_type": "code",
    "id": "uCfuTkRbVqAg"
   },
   "outputs": [],
   "source": []
  },
  {
   "cell_type": "code",
   "execution_count": null,
   "metadata": {
    "colab": {},
    "colab_type": "code",
    "id": "Vwx3NrkSVqAl"
   },
   "outputs": [],
   "source": []
  }
 ],
 "metadata": {
  "colab": {
   "name": "Copy of [SF-DST] Movies IMBD v4.1 TEMPLATE.ipynb",
   "provenance": []
  },
  "kernelspec": {
   "display_name": "Python 3",
   "language": "python",
   "name": "python3"
  },
  "language_info": {
   "codemirror_mode": {
    "name": "ipython",
    "version": 3
   },
   "file_extension": ".py",
   "mimetype": "text/x-python",
   "name": "python",
   "nbconvert_exporter": "python",
   "pygments_lexer": "ipython3",
   "version": "3.8.5"
  }
 },
 "nbformat": 4,
 "nbformat_minor": 1
}
